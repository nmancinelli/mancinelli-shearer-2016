{
 "cells": [
  {
   "cell_type": "markdown",
   "metadata": {},
   "source": [
    "### Some calculations to reproduce those in Mancinelli and Shearer, 2016, JGR"
   ]
  },
  {
   "cell_type": "code",
   "execution_count": 101,
   "metadata": {},
   "outputs": [
    {
     "name": "stdout",
     "output_type": "stream",
     "text": [
      "Correlation distance = 6.90 km\n"
     ]
    }
   ],
   "source": [
    "#This cell calculates the correlation length\n",
    "\n",
    "from numpy import pi, sin, cos, sqrt, array, exp\n",
    "\n",
    "alpha = 8.0 #Vp\n",
    "freq  = 1.0 #Hz \n",
    "sigma = 15. #degrees\n",
    "\n",
    "omega = 2.*pi*freq\n",
    "\n",
    "corlen = alpha / (sqrt(2.)*omega*sin(sigma/2. * pi / 180.))\n",
    "\n",
    "print('Correlation distance = %.2f km' % corlen)"
   ]
  },
  {
   "cell_type": "code",
   "execution_count": 98,
   "metadata": {},
   "outputs": [],
   "source": [
    "#This part calculates the probability versus RMS topography\n",
    "\n",
    "\n",
    "lambd = alpha/freq  #wavelength\n",
    "k0 = 2.*pi/lambd  #wavenumber\n",
    "a = corlen  #correlation length (from above)\n",
    "omega = 1.3  #geometrical factor from Bataille\n",
    "\n",
    "def calc_scattering_prob(zeta):\n",
    "    #zeta is RMS height in meters\n",
    "\n",
    "    def PHI(phi, theta):  #capital PHI from Mancinelli and Shearer (2016) paper\n",
    "        #phi is the azimuthal angle\n",
    "        #and theta is the polar angle\n",
    "        factor = zeta**2 / (4*pi) * a**2\n",
    "        r = array([1,0,0])\n",
    "        s = array([sin(theta)*cos(phi), sin(theta)*sin(phi), cos(theta)])\n",
    "        k = r - s\n",
    "        kmag = sum(k**2)**0.5\n",
    "\n",
    "        return omega * factor * exp(- kmag**2 * a**2 /4.)\n",
    "\n",
    "    #integrate.dblquad(f, 0., 3.14, 0., 3.14)\n",
    "\n",
    "    from numpy import linspace\n",
    "    phis = linspace(0, 2.*pi, 100)\n",
    "    thetas = linspace(0, pi, 100)\n",
    "\n",
    "    dtheta = thetas[1] - thetas[0]\n",
    "    dphi   = phis[1] - phis[0]\n",
    "\n",
    "    intsum = 0.0\n",
    "\n",
    "    for phi in phis:\n",
    "        for theta in thetas:\n",
    "            tmp = PHI(phi,theta)\n",
    "            intsum += tmp * abs(sin(theta))*dphi*dtheta  #integration in spherical coords on unit sphere\n",
    "            \n",
    "    return k0**2 * intsum\n",
    "        "
   ]
  },
  {
   "cell_type": "code",
   "execution_count": 99,
   "metadata": {},
   "outputs": [],
   "source": [
    "zetas = linspace(0.,1.0,21)\n",
    "Ps = []\n",
    "for zeta in zetas:\n",
    "    Ps.append(calc_scattering_prob(zeta))\n"
   ]
  },
  {
   "cell_type": "code",
   "execution_count": 100,
   "metadata": {},
   "outputs": [
    {
     "data": {
      "text/plain": [
       "<matplotlib.text.Text at 0x114ca5438>"
      ]
     },
     "execution_count": 100,
     "metadata": {},
     "output_type": "execute_result"
    },
    {
     "data": {
      "image/png": "[encoded data removed]",
      "text/plain": [
       "<matplotlib.figure.Figure at 0x114f72128>"
      ]
     },
     "metadata": {},
     "output_type": "display_data"
    }
   ],
   "source": [
    "from matplotlib import pylab as plt\n",
    "%matplotlib inline\n",
    "plt.style.use('ggplot')\n",
    "plt.plot(zetas, Ps)\n",
    "plt.ylabel('Scattering Probability')\n",
    "plt.xlabel('RMS Height (km)')\n"
   ]
  },
  {
   "cell_type": "code",
   "execution_count": null,
   "metadata": {
    "collapsed": true
   },
   "outputs": [],
   "source": []
  }
 ],
 "metadata": {
  "kernelspec": {
   "display_name": "Python 3",
   "language": "python",
   "name": "python3"
  },
  "language_info": {
   "codemirror_mode": {
    "name": "ipython",
    "version": 3
   },
   "file_extension": ".py",
   "mimetype": "text/x-python",
   "name": "python",
   "nbconvert_exporter": "python",
   "pygments_lexer": "ipython3",
   "version": "3.6.1"
  }
 },
 "nbformat": 4,
 "nbformat_minor": 2
}
